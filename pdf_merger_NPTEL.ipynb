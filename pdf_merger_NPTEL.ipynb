{
 "cells": [
  {
   "cell_type": "code",
   "execution_count": 62,
   "metadata": {},
   "outputs": [],
   "source": [
    "import PyPDF2\n",
    "import glob"
   ]
  },
  {
   "cell_type": "code",
   "execution_count": 63,
   "metadata": {},
   "outputs": [],
   "source": [
    "dirs = sorted([int(i) for i in glob.glob(r'[0-9]*')])"
   ]
  },
  {
   "cell_type": "code",
   "execution_count": 64,
   "metadata": {},
   "outputs": [
    {
     "name": "stdout",
     "output_type": "stream",
     "text": [
      "[['1/1-Intro-1cs40.pdf', '1/2-Intro-2cs40.pdf', '1/3- Lecture Material.pdf', '1/4-Actuation.pdf', '1/5-Networking_1.pdf'], ['2/IOT lecture 06.pdf', '2/IOT lecture 07.pdf', '2/IOT lecture 08.pdf', '2/IOT lecture 09.pdf', '2/IOT lecture 10.pdf'], ['3/lecture material 11.pdf', '3/lecture material 12.pdf', '3/lecture material 13.pdf', '3/lecture material 14.pdf', '3/lecture material 15.pdf'], ['5/Lecture 21.pdf', '5/Lecture 22.pdf', '5/Lecture 23.pdf', '5/Lecture 24.pdf', '5/Lecture 25.pdf'], ['6/lecture 26.pdf', '6/lecture 27.pdf', '6/lecture 28.pdf', '6/lecture 29.pdf', '6/lecture 30.pdf'], ['7/lecture 31.pdf', '7/lecture 32.pdf', '7/lecture 33.pdf', '7/lecture 34.pdf', '7/lecture 35.pdf'], ['8/lecture 36.pdf', '8/lecture 37.pdf', '8/lecture 38.pdf', '8/lecture 39.pdf', '8/lecture 40.pdf'], ['10/46-SmartCitiesNHomes_1.pptx', '10/47-SmartCitiesNHomes_2.pptx', '10/48-SmartCitiesNHomes_3.pptx', '10/49-ConnectedVehicles_1.pptx', '10/50-ConnectedVehicles_2.pptx'], ['11/51-Smart Grid-Part 1.pdf', '11/52-Smart Grid-Part 2.pdf', '11/53-IIoT - Part I.pdf', '11/54-IIoT - Part II.pdf', '11/55-Data Handling and Analytics - Part 1.pdf'], ['12/lecture 56.pdf', '12/lecture 57.pdf', '12/lecture 58.pdf', '12/lecture 59.pdf']]\n"
     ]
    }
   ],
   "source": [
    "dts = []\n",
    "for i in dirs:\n",
    "    b = []\n",
    "    for j in glob.glob('{}/*'.format(i)):\n",
    "        b.append(j)\n",
    "    dts.append(sorted(b))\n",
    "print(dts)"
   ]
  },
  {
   "cell_type": "code",
   "execution_count": 78,
   "metadata": {},
   "outputs": [],
   "source": [
    "def PDFmerge(pdfs, output):  \n",
    "    # creating pdf file merger object \n",
    "    fs = [open(i,'rb') for i in pdfs]\n",
    "    \n",
    "    pdf_fs = [PyPDF2.PdfFileReader(fi) for fi in fs]\n",
    "    \n",
    "    pdfs_pages = [i.getNumPages() for i in pdf_fs]\n",
    "    \n",
    "    output_file = open(output,'wb')\n",
    "    \n",
    "    writer = PyPDF2.PdfFileWriter()\n",
    "    \n",
    "    for i in range(len(pdfs_pages)):\n",
    "        for j in range(pdfs_pages[i]):\n",
    "            writer.addPage(pdf_fs[i].getPage(j))\n",
    "    writer.write(output_file)\n",
    "    for i in fs:\n",
    "        i.close()\n",
    "    \n",
    "    output_file.close()\n",
    " "
   ]
  },
  {
   "cell_type": "code",
   "execution_count": 79,
   "metadata": {},
   "outputs": [
    {
     "name": "stdout",
     "output_type": "stream",
     "text": [
      "['10/46-SmartCitiesNHomes_1.pptx', '10/47-SmartCitiesNHomes_2.pptx', '10/48-SmartCitiesNHomes_3.pptx', '10/49-ConnectedVehicles_1.pptx', '10/50-ConnectedVehicles_2.pptx']\n"
     ]
    }
   ],
   "source": [
    "for i in range(len(dirs)):\n",
    "    try:\n",
    "        PDFmerge(pdfs = dts[i], output = 'week{}.pdf'.format(dirs[i])) \n",
    "    except:\n",
    "        print(dts[i])"
   ]
  },
  {
   "cell_type": "code",
   "execution_count": 82,
   "metadata": {},
   "outputs": [],
   "source": [
    "f = sorted([i for i in glob.glob('10/*.pdf')])\n",
    "PDFmerge(pdfs = f, output = 'week10.pdf')"
   ]
  },
  {
   "cell_type": "code",
   "execution_count": 83,
   "metadata": {},
   "outputs": [
    {
     "data": {
      "text/plain": [
       "191161"
      ]
     },
     "execution_count": 83,
     "metadata": {},
     "output_type": "execute_result"
    }
   ],
   "source": [
    "a = [27233,26897,28303,28376,27861,27626,24865]\n",
    "sum(a)"
   ]
  },
  {
   "cell_type": "code",
   "execution_count": null,
   "metadata": {},
   "outputs": [],
   "source": []
  }
 ],
 "metadata": {
  "kernelspec": {
   "display_name": "Python 3",
   "language": "python",
   "name": "python3"
  },
  "language_info": {
   "codemirror_mode": {
    "name": "ipython",
    "version": 3
   },
   "file_extension": ".py",
   "mimetype": "text/x-python",
   "name": "python",
   "nbconvert_exporter": "python",
   "pygments_lexer": "ipython3",
   "version": "3.6.8"
  }
 },
 "nbformat": 4,
 "nbformat_minor": 2
}
